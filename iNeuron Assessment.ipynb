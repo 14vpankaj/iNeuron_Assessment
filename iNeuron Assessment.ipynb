{
 "cells": [
  {
   "cell_type": "markdown",
   "id": "c419ea69",
   "metadata": {},
   "source": [
    "### 1. Create a function in python to read the text file and replace specific content of the file."
   ]
  },
  {
   "cell_type": "code",
   "execution_count": 1,
   "id": "481025ae",
   "metadata": {},
   "outputs": [],
   "source": [
    "import logging as lg\n",
    "# Create log file to log the important informations and errors.\n",
    "lg.basicConfig(filename = \"logging.log\", level = lg.INFO, format = \"%(asctime)s %(message)s\")"
   ]
  },
  {
   "cell_type": "code",
   "execution_count": 2,
   "id": "8b4b55d1",
   "metadata": {},
   "outputs": [],
   "source": [
    "def create_file(): # Function creates example.txt file\n",
    "    try:\n",
    "        with open('example.txt', 'w') as file:\n",
    "            file.write('This is a placement assignment') # Write the content in the file\n",
    "            lg.info('Text file has been created.') # store the info in the log file.\n",
    "            file.close() # close the file.\n",
    "    except Exception as e:\n",
    "        lg.error(\"Error has occured\")\n",
    "        lg.exception(str(e))"
   ]
  },
  {
   "cell_type": "code",
   "execution_count": 3,
   "id": "5d9c56e1",
   "metadata": {},
   "outputs": [],
   "source": [
    "create_file()"
   ]
  },
  {
   "cell_type": "code",
   "execution_count": 4,
   "id": "07b1ed1c",
   "metadata": {},
   "outputs": [],
   "source": [
    "def read_file(): # This functions reads the file\n",
    "    try:\n",
    "        with open('example.txt', 'r') as file: # Read the file\n",
    "            return file.read()\n",
    "    except Exception as e:\n",
    "        lg.error('Error has occured')\n",
    "        lg.exception(str(e))"
   ]
  },
  {
   "cell_type": "code",
   "execution_count": 5,
   "id": "175206e4",
   "metadata": {},
   "outputs": [
    {
     "data": {
      "text/plain": [
       "'This is a placement assignment'"
      ]
     },
     "execution_count": 5,
     "metadata": {},
     "output_type": "execute_result"
    }
   ],
   "source": [
    "read_file()"
   ]
  },
  {
   "cell_type": "code",
   "execution_count": 6,
   "id": "18340ad0",
   "metadata": {},
   "outputs": [],
   "source": [
    "def replace_string(search_text, replace_text): # This function replaces the string\n",
    "    try:\n",
    "        with open('example.txt', 'r') as file:\n",
    "            data = file.read()\n",
    "            data = data.replace(search_text, replace_text) # Repace the text\n",
    "        with open('example.txt', 'w') as file:\n",
    "            file.write(data) # write the replaced string in the txt file.\n",
    "        lg.info('String has been replaced.')\n",
    "    except Exception as e:\n",
    "        lg.error('Error has occured')\n",
    "        lg.exception(str(e))"
   ]
  },
  {
   "cell_type": "code",
   "execution_count": 7,
   "id": "1b60a74b",
   "metadata": {},
   "outputs": [],
   "source": [
    "replace_string('placement', 'screening') # call the function"
   ]
  },
  {
   "cell_type": "code",
   "execution_count": 8,
   "id": "dae69aff",
   "metadata": {},
   "outputs": [],
   "source": [
    "def read_replace_file(): # This functions reads the replaced string file\n",
    "    try:\n",
    "        with open('example.txt', 'r') as file:\n",
    "            return file.read() # Read the replaced string in the txt file.\n",
    "    except Exception as e:\n",
    "        lg.error('Error has occured')\n",
    "        lg.exception(str(e))"
   ]
  },
  {
   "cell_type": "code",
   "execution_count": 9,
   "id": "64f0caf1",
   "metadata": {},
   "outputs": [
    {
     "data": {
      "text/plain": [
       "'This is a screening assignment'"
      ]
     },
     "execution_count": 9,
     "metadata": {},
     "output_type": "execute_result"
    }
   ],
   "source": [
    "read_replace_file() # call the function to check whether the string is replaced or not."
   ]
  },
  {
   "cell_type": "markdown",
   "id": "e4027aa7",
   "metadata": {},
   "source": [
    "### 2. Demonstrate use of abstract class, multiple inheritance and decorator in python using examples."
   ]
  },
  {
   "cell_type": "markdown",
   "id": "952421ef",
   "metadata": {},
   "source": [
    "## Abstract Class"
   ]
  },
  {
   "cell_type": "markdown",
   "id": "ad8e26cd",
   "metadata": {},
   "source": [
    "In object-oriented programming, an abstract class is a class that cannot be instantiated. However, you can create classes that inherit from an abstract class.\n",
    "\n",
    "- A class which contains one or more abstract methods is called an abstract class.\n",
    "- An abstract method is a method that has a declaration but does not have a definition.\n",
    "- When you inherit an abstract class as a parent to the child class, the child class should define all the abstract method present in parent class.\n",
    "- If it is not done then child class also becomes abstract class automatically."
   ]
  },
  {
   "cell_type": "code",
   "execution_count": 10,
   "id": "d5b2a139",
   "metadata": {},
   "outputs": [],
   "source": [
    "from abc import ABC, abstractmethod"
   ]
  },
  {
   "cell_type": "code",
   "execution_count": 11,
   "id": "aa7d7a1b",
   "metadata": {},
   "outputs": [],
   "source": [
    "class world(ABC):\n",
    "\n",
    "# create the abstract method inside the abstract class\n",
    "\n",
    "    @abstractmethod     # To define an abstract method, we use the @abstractmethod decorator\n",
    "    def capital(self):\n",
    "        pass           # abstract method only has a declaration but a definition.\n",
    "    \n",
    "class India(world):   # Inherit the abstract class to the child class\n",
    "    def capital(self):\n",
    "        print('Delhi is capital of India')\n",
    "    \n",
    "class France(world):  # Inherit the abstract class to the child class\n",
    "    def capital(self):\n",
    "        print('Paris is capital of France')\n",
    "        \n",
    "class Japan(world):  # Inherit the abstract class to the child class\n",
    "    def capital(self):\n",
    "        print('Tokyo is capital of Japan')\n",
    "        \n",
    "class Italy(world):  # Inherit the abstract class to the child class\n",
    "    def capital(self):\n",
    "        print('Rome is capital of Italy')"
   ]
  },
  {
   "cell_type": "code",
   "execution_count": 12,
   "id": "7ab26b03",
   "metadata": {},
   "outputs": [
    {
     "name": "stdout",
     "output_type": "stream",
     "text": [
      "Delhi is capital of India\n",
      "Paris is capital of France\n",
      "Tokyo is capital of Japan\n",
      "Rome is capital of Italy\n"
     ]
    }
   ],
   "source": [
    "i = India()\n",
    "i.capital()\n",
    "\n",
    "f = France()\n",
    "f.capital()\n",
    "\n",
    "j = Japan()\n",
    "j.capital()\n",
    "\n",
    "it = Italy()\n",
    "it.capital()"
   ]
  },
  {
   "cell_type": "markdown",
   "id": "e1538fbb",
   "metadata": {},
   "source": [
    "## Multiple Inheritance"
   ]
  },
  {
   "cell_type": "code",
   "execution_count": 13,
   "id": "e21343a9",
   "metadata": {},
   "outputs": [],
   "source": [
    "class area_of_rectangle:   # A parent class which gives the area of reactangle \n",
    "    \n",
    "    def __init__(self, length, breadth):\n",
    "        self.length = length\n",
    "        self.breadth = breadth\n",
    "        \n",
    "    def area(self):       # method of the class which defines the area\n",
    "        area = self.length * self.breadth\n",
    "        print(f'Area of rectangle is {area}')\n",
    "    \n",
    "class perimeter_of_rectangle: # # A parent class which gives the perimeter of reactangle\n",
    "    \n",
    "    def __init__(self, length, breadth):\n",
    "        self.length = length\n",
    "        self.breadth = breadth\n",
    "        \n",
    "    def perimeter(self):   # method of the class which defines the perimeter\n",
    "        peri = 2*(self.length+self.breadth)\n",
    "        print(f'Perimeter of rectangle is {peri}')"
   ]
  },
  {
   "cell_type": "code",
   "execution_count": 14,
   "id": "0a950e84",
   "metadata": {},
   "outputs": [
    {
     "name": "stdout",
     "output_type": "stream",
     "text": [
      "Area of rectangle is 40\n",
      "Perimeter of rectangle is 26\n"
     ]
    }
   ],
   "source": [
    "a = area_of_rectangle(8,5)\n",
    "a.area()\n",
    "p = perimeter_of_rectangle(8,5)\n",
    "p.perimeter()"
   ]
  },
  {
   "cell_type": "code",
   "execution_count": 15,
   "id": "ec46e17e",
   "metadata": {},
   "outputs": [],
   "source": [
    "class rectangle(area_of_rectangle, perimeter_of_rectangle): # This class inherits the methods of parent classes\n",
    "    def __init__(self, length, breadth): # we don't have to create separate methods for a child class\n",
    "        self.length = length    # we only need to pass the parameters\n",
    "        self.breadth = breadth"
   ]
  },
  {
   "cell_type": "code",
   "execution_count": 16,
   "id": "8a41b78c",
   "metadata": {},
   "outputs": [
    {
     "name": "stdout",
     "output_type": "stream",
     "text": [
      "Area of rectangle is 40\n",
      "Perimeter of rectangle is 26\n"
     ]
    }
   ],
   "source": [
    "r = rectangle(8, 5) # create the object of the child class and pass the arguments to call the method which it inherited\n",
    "r.area()           # from its parent classes.\n",
    "r.perimeter()"
   ]
  },
  {
   "cell_type": "markdown",
   "id": "69d1c30d",
   "metadata": {},
   "source": [
    "## Decorators\n",
    "\n",
    "Python decorators allow us to change the behavior of a function without modifying the function itself."
   ]
  },
  {
   "cell_type": "code",
   "execution_count": 17,
   "id": "7b815d0b",
   "metadata": {},
   "outputs": [
    {
     "name": "stdout",
     "output_type": "stream",
     "text": [
      "2.0\n"
     ]
    }
   ],
   "source": [
    "def divide (x, y): # This function divides two numbers\n",
    "    print(x/y)\n",
    "\n",
    "def outer_div(func): # This outer function takes another function as an argument and extends its behavior.\n",
    "    def inner(x, y):\n",
    "        if x < y:\n",
    "            x, y = y, x\n",
    "            return func(x, y)\n",
    "    return inner\n",
    "\n",
    "divide1 = outer_div(divide)\n",
    "divide1(2, 4)"
   ]
  },
  {
   "cell_type": "code",
   "execution_count": 18,
   "id": "7d5282bb",
   "metadata": {},
   "outputs": [
    {
     "name": "stdout",
     "output_type": "stream",
     "text": [
      "2.0\n"
     ]
    }
   ],
   "source": [
    "def outer_div(func):\n",
    "    def inner(x, y):\n",
    "        if x < y:\n",
    "            x, y = y, x\n",
    "            return func(x, y)\n",
    "    return inner\n",
    "\n",
    "@outer_div\n",
    "def divide(x, y):\n",
    "    print(x/y)\n",
    "    \n",
    "divide(2, 4)"
   ]
  },
  {
   "cell_type": "code",
   "execution_count": null,
   "id": "52919199",
   "metadata": {},
   "outputs": [],
   "source": []
  },
  {
   "cell_type": "code",
   "execution_count": null,
   "id": "8a1d5a2d",
   "metadata": {},
   "outputs": [],
   "source": []
  }
 ],
 "metadata": {
  "kernelspec": {
   "display_name": "Python 3 (ipykernel)",
   "language": "python",
   "name": "python3"
  },
  "language_info": {
   "codemirror_mode": {
    "name": "ipython",
    "version": 3
   },
   "file_extension": ".py",
   "mimetype": "text/x-python",
   "name": "python",
   "nbconvert_exporter": "python",
   "pygments_lexer": "ipython3",
   "version": "3.8.8"
  }
 },
 "nbformat": 4,
 "nbformat_minor": 5
}
